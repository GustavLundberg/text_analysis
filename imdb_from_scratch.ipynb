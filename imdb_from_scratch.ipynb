{
 "cells": [
  {
   "cell_type": "code",
   "execution_count": 47,
   "metadata": {},
   "outputs": [],
   "source": [
    "import os\n",
    "import numpy as np\n",
    "import matplotlib.pyplot as plt\n",
    "import matplotlib as mpl\n",
    "\n",
    "from keras.models import Sequential, load_model\n",
    "from keras.layers import Embedding, Flatten, Dense, LSTM, Dropout\n",
    "from keras import optimizers\n",
    "\n",
    "from keras.preprocessing.text import Tokenizer\n",
    "from keras.preprocessing.sequence import pad_sequences\n",
    "from sklearn.model_selection import train_test_split"
   ]
  },
  {
   "cell_type": "code",
   "execution_count": 2,
   "metadata": {},
   "outputs": [],
   "source": [
    "dir = 'C:/Users/gustav.k.lundberg/python_devenv/workspace/text_analysis/dataset/imdb/aclImdb/aclImdb/test'\n",
    "x = []\n",
    "y = []\n",
    "for label in ['pos', 'neg']:\n",
    "    for fname in os.listdir(dir + '/'+ label):\n",
    "        f = open(dir + '/'+ label + '/' + fname, encoding=\"utf8\")\n",
    "        x.append(f.read())\n",
    "        y.append(label)\n",
    "\n",
    "y = [0 if label=='neg' else 1 for label in y]"
   ]
  },
  {
   "cell_type": "code",
   "execution_count": 3,
   "metadata": {},
   "outputs": [
    {
     "name": "stdout",
     "output_type": "stream",
     "text": [
      "x =  17243 <class 'str'> I went and saw this movie last night after being coaxed to by a few friends of mine. I'll admit that I was reluctant to see it because from what I knew of Ashton Kutcher he was only able to do comedy. I was wrong. Kutcher played the character of Jake Fischer very well, and Kevin Costner played Ben Randall with such professionalism. The sign of a good movie is that it can toy with our emotions. This one did exactly that. The entire theater (which was sold out) was overcome by laughter during the first half of the movie, and were moved to tears during the second half. While exiting the theater I not only saw many women in tears, but many full grown men as well, trying desperately not to let anyone see them crying. This movie was great, and I suggest that you go see it before you judge.\n",
      "y =  17243 1\n"
     ]
    }
   ],
   "source": [
    "print('x = ', len(x), type(x[0]), x[0])\n",
    "print('y = ', len(y), y[0])"
   ]
  },
  {
   "cell_type": "code",
   "execution_count": 4,
   "metadata": {},
   "outputs": [],
   "source": [
    "### Tokenize the data ### \n",
    "maxlen = 100 # Use only the first maxlen words in each review\n",
    "num_training_samples = 5000\n",
    "#num_validation_samples = 10000\n",
    "max_words = 10000\n",
    "\n",
    "tokenizer = Tokenizer(num_words = max_words)\n",
    "tokenizer.fit_on_texts(x)\n",
    "sequences = tokenizer.texts_to_sequences(x)\n",
    "word_index = tokenizer.word_index\n",
    "\n",
    "x_data = pad_sequences(sequences = sequences, maxlen = maxlen, padding = 'post', truncating = 'post')\n",
    "\n",
    "x_train, x_test, y_train, y_test = train_test_split(x_data, y, train_size = num_training_samples)"
   ]
  },
  {
   "cell_type": "code",
   "execution_count": 5,
   "metadata": {},
   "outputs": [],
   "source": [
    "# Only keep the top max_word entries of the dictionary\n",
    "word_index = {key: item for key, item in word_index.items() if item < max_words}\n",
    "#print(len(word_index))"
   ]
  },
  {
   "cell_type": "code",
   "execution_count": 6,
   "metadata": {},
   "outputs": [],
   "source": [
    "#print(type(sequences))\n",
    "#print(len(sequences))\n",
    "#print(sequences[0])\n",
    "\n",
    "#print(type(word_index))\n",
    "#print(len(word_index))\n",
    "#print(word_index)\n",
    "\n",
    "#print(type(data))\n",
    "#print(data.shape)\n",
    "#print(data[0])\n",
    "\n",
    "#print(type(x_train))\n",
    "#print(x_train.shape)\n",
    "#print(x_train[0])\n",
    "\n",
    "#print(type(x_test))\n",
    "#print(x_test.shape)\n",
    "#print(x_test[0])\n",
    "\n",
    "#print(type(y_train))\n",
    "#print(len(y_train))\n",
    "#print(y_train[0])\n",
    "\n",
    "#print(type(y_test))\n",
    "#print(len(y_test))\n",
    "#print(y_test[0])"
   ]
  },
  {
   "cell_type": "code",
   "execution_count": 7,
   "metadata": {},
   "outputs": [],
   "source": [
    "### Loading the pre-trained embedding GloVe ###\n",
    "dir = 'C:/Users/gustav.k.lundberg/python_devenv/workspace/text_analysis/embeddings/glove.6B/glove.6B.100d.txt'\n",
    "\n",
    "with open(dir, 'r', encoding=\"utf8\") as f:\n",
    "    embedding = f.readlines()\n",
    "\n",
    "word_coefs_dict = {}\n",
    "i = 0\n",
    "\n",
    "for line in embedding:\n",
    "    lst = line.split()\n",
    "    word_coefs_dict[lst[0]] = lst[1:]\n",
    "    if i == 0:\n",
    "        embed_dim = len(lst[1:])\n",
    "#    words.append(lst[0])\n",
    "#    coefs.append(lst[1:])\n",
    "\n"
   ]
  },
  {
   "cell_type": "code",
   "execution_count": null,
   "metadata": {},
   "outputs": [],
   "source": []
  },
  {
   "cell_type": "code",
   "execution_count": null,
   "metadata": {},
   "outputs": [],
   "source": []
  },
  {
   "cell_type": "code",
   "execution_count": 8,
   "metadata": {},
   "outputs": [
    {
     "name": "stdout",
     "output_type": "stream",
     "text": [
      "(10000, 100)\n",
      "Word not in GloVe embedding =  it's\n",
      "Word not in GloVe embedding =  don't\n",
      "Word not in GloVe embedding =  i'm\n",
      "Word not in GloVe embedding =  didn't\n",
      "Word not in GloVe embedding =  doesn't\n",
      "Word not in GloVe embedding =  can't\n",
      "Word not in GloVe embedding =  that's\n",
      "Word not in GloVe embedding =  isn't\n",
      "Word not in GloVe embedding =  there's\n",
      "Word not in GloVe embedding =  i've\n",
      "Word not in GloVe embedding =  he's\n",
      "Word not in GloVe embedding =  wasn't\n",
      "Word not in GloVe embedding =  you're\n",
      "Word not in GloVe embedding =  couldn't\n",
      "Word not in GloVe embedding =  she's\n",
      "Word not in GloVe embedding =  they're\n",
      "Word not in GloVe embedding =  i'd\n",
      "Word not in GloVe embedding =  you'll\n",
      "Word not in GloVe embedding =  won't\n",
      "Word not in GloVe embedding =  wouldn't\n",
      "Word not in GloVe embedding =  \n",
      "Word not in GloVe embedding =  i'll\n",
      "Word not in GloVe embedding =  aren't\n",
      "Word not in GloVe embedding =  film's\n",
      "Word not in GloVe embedding =  what's\n",
      "Word not in GloVe embedding =  haven't\n",
      "Word not in GloVe embedding =  you've\n",
      "Word not in GloVe embedding =  let's\n",
      "Word not in GloVe embedding =  who's\n",
      "Word not in GloVe embedding =  we're\n",
      "Word not in GloVe embedding =  'the\n",
      "Word not in GloVe embedding =  weren't\n",
      "Word not in GloVe embedding =  80's\n",
      "Word not in GloVe embedding =  you'd\n",
      "Word not in GloVe embedding =  movie's\n",
      "Word not in GloVe embedding =  shouldn't\n",
      "Word not in GloVe embedding =  director's\n",
      "Word not in GloVe embedding =  hasn't\n",
      "Word not in GloVe embedding =  man's\n",
      "Word not in GloVe embedding =  character's\n",
      "Word not in GloVe embedding =  hadn't\n",
      "Word not in GloVe embedding =  one's\n",
      "Word not in GloVe embedding =  here's\n",
      "Word not in GloVe embedding =  70's\n",
      "Word not in GloVe embedding =  they've\n",
      "Word not in GloVe embedding =  we've\n",
      "Word not in GloVe embedding =  ain't\n",
      "Word not in GloVe embedding =  today's\n",
      "Word not in GloVe embedding =  could've\n",
      "Word not in GloVe embedding =  would've\n",
      "Word not in GloVe embedding =  children's\n",
      "Word not in GloVe embedding =  he'd\n",
      "Word not in GloVe embedding =  people's\n",
      "Word not in GloVe embedding =  60's\n",
      "Word not in GloVe embedding =  90's\n",
      "Word not in GloVe embedding =  father's\n",
      "Word not in GloVe embedding =  they'd\n",
      "Word not in GloVe embedding =  woman's\n",
      "Word not in GloVe embedding =  they'll\n",
      "Word not in GloVe embedding =  hitchcock's\n",
      "Word not in GloVe embedding =  we'll\n",
      "Word not in GloVe embedding =  guy's\n",
      "Word not in GloVe embedding =  it'll\n",
      "Word not in GloVe embedding =  god's\n",
      "Word not in GloVe embedding =  50's\n",
      "Word not in GloVe embedding =  ",
      "\n",
      "Word not in GloVe embedding =  girl's\n",
      "Word not in GloVe embedding =  characters'\n",
      "Word not in GloVe embedding =  world's\n",
      "Word not in GloVe embedding =  where's\n",
      "Word not in GloVe embedding =  he'll\n",
      "Word not in GloVe embedding =  someone's\n",
      "Word not in GloVe embedding =  show's\n",
      "Word not in GloVe embedding =  everyone's\n",
      "Word not in GloVe embedding =  1950's\n",
      "Word not in GloVe embedding =  women's\n",
      "Word not in GloVe embedding =  anyone's\n",
      "Word not in GloVe embedding =  1970's\n",
      "Word not in GloVe embedding =  year's\n",
      "Word not in GloVe embedding =  1980's\n",
      "Word not in GloVe embedding =  america's\n",
      "Word not in GloVe embedding =  other's\n",
      "Word not in GloVe embedding =  should've\n",
      "Word not in GloVe embedding =  hollywood's\n",
      "Word not in GloVe embedding =  wife's\n",
      "Word not in GloVe embedding =  mother's\n",
      "Word not in GloVe embedding =  wood's\n",
      "Word not in GloVe embedding =  husband's\n",
      "Word not in GloVe embedding =  actor's\n",
      "Word not in GloVe embedding =  heaven's\n",
      "Word not in GloVe embedding =  1960's\n",
      "Word not in GloVe embedding =  actors'\n",
      "Word not in GloVe embedding =  killer's\n",
      "Word not in GloVe embedding =  we'd\n",
      "Word not in GloVe embedding =  viewer's\n",
      "Word not in GloVe embedding =  friend's\n",
      "Word not in GloVe embedding =  austen's\n",
      "Word not in GloVe embedding =  ocean's\n",
      "Word not in GloVe embedding =  child's\n",
      "Word not in GloVe embedding =  devil's\n",
      "Word not in GloVe embedding =  boy's\n",
      "Word not in GloVe embedding =  kid's\n",
      "Word not in GloVe embedding =  else's\n",
      "Word not in GloVe embedding =  king's\n",
      "Word not in GloVe embedding =  it'd\n",
      "Word not in GloVe embedding =  she'd\n",
      "Word not in GloVe embedding =  family's\n",
      "Word not in GloVe embedding =  wayne's\n",
      "Word not in GloVe embedding =  seagal's\n",
      "Word not in GloVe embedding =  1930's\n",
      "Word not in GloVe embedding =  darwin's\n",
      "Word not in GloVe embedding =  fulci's\n",
      "Word not in GloVe embedding =  son's\n",
      "Word not in GloVe embedding =  'a\n",
      "Word not in GloVe embedding =  men's\n",
      "Word not in GloVe embedding =  doctor's\n",
      "Word not in GloVe embedding =  chaplin's\n",
      "Word not in GloVe embedding =  story's\n",
      "Word not in GloVe embedding =  she'll\n",
      "Word not in GloVe embedding =  must've\n",
      "Word not in GloVe embedding =  40's\n",
      "Word not in GloVe embedding =  hero's\n",
      "Word not in GloVe embedding =  jackson's\n",
      "Word not in GloVe embedding =  life's\n",
      "Word not in GloVe embedding =  shakespeare's\n",
      "Word not in GloVe embedding =  that'll\n",
      "Word not in GloVe embedding =  babette's\n",
      "Word not in GloVe embedding =  river's\n",
      "Word not in GloVe embedding =  disney's\n",
      "Word not in GloVe embedding =  girls'\n",
      "Word not in GloVe embedding =  carpenter's\n",
      "Word not in GloVe embedding =  it´s\n",
      "Word not in GloVe embedding =  john's\n",
      "Word not in GloVe embedding =  audience's\n",
      "Word not in GloVe embedding =  anderson's\n",
      "Word not in GloVe embedding =  moore's\n",
      "Word not in GloVe embedding =  lynch's\n",
      "Word not in GloVe embedding =  hawk's\n",
      "Word not in GloVe embedding =  custer's\n",
      "Word not in GloVe embedding =  sister's\n",
      "Word not in GloVe embedding =  brother's\n",
      "Word not in GloVe embedding =  1940's\n",
      "Word not in GloVe embedding =  person's\n",
      "Word not in GloVe embedding =  earth's\n",
      "Word not in GloVe embedding =  kubrick's\n",
      "Word not in GloVe embedding =  tv's\n",
      "Word not in GloVe embedding =  howard's\n",
      "Word not in GloVe embedding =  daughter's\n",
      "Word not in GloVe embedding =  20's\n",
      "Word not in GloVe embedding =  'i\n",
      "Word not in GloVe embedding =  satan's\n",
      "Word not in GloVe embedding =  kelly's\n",
      "Word not in GloVe embedding =  karen's\n",
      "Word not in GloVe embedding =  trivialboring\n",
      "Word not in GloVe embedding =  jack's\n",
      "Word not in GloVe embedding =  fingersmith\n",
      "Word not in GloVe embedding =  who've\n",
      "Word not in GloVe embedding =  raisuli\n",
      "Word not in GloVe embedding =  'night\n",
      "Word not in GloVe embedding =  'so\n",
      "Word not in GloVe embedding =  parents'\n",
      "Word not in GloVe embedding =  lee's\n",
      "Word not in GloVe embedding =  mccool's\n",
      "Word not in GloVe embedding =  joyce's\n",
      "Word not in GloVe embedding =  30's\n",
      "Word not in GloVe embedding =  writer's\n",
      "Word not in GloVe embedding =  afroreggae\n",
      "Word not in GloVe embedding =  dad's\n",
      "Word not in GloVe embedding =  charlie's\n",
      "Word not in GloVe embedding =  sam's\n",
      "Word not in GloVe embedding =  nolan's\n",
      "Word not in GloVe embedding =  everybody's\n",
      "Word not in GloVe embedding =  burton's\n",
      "Word not in GloVe embedding =  dvd's\n",
      "Word not in GloVe embedding =  kids'\n",
      "Word not in GloVe embedding =  protagonist's\n",
      "Word not in GloVe embedding =  altman's\n",
      "Word not in GloVe embedding =  conrad's\n",
      "Word not in GloVe embedding =  park's\n",
      "Word not in GloVe embedding =  shax\n",
      "Word not in GloVe embedding =  imho\n",
      "Word not in GloVe embedding =  sakall\n",
      "Word not in GloVe embedding =  cat's\n",
      "Word not in GloVe embedding =  lloyd's\n",
      "Word not in GloVe embedding =  it'\n",
      "Word not in GloVe embedding =  stone's\n",
      "Word not in GloVe embedding =  get's\n",
      "Word not in GloVe embedding =  \n",
      "Word not in GloVe embedding =  dog's\n",
      "Word not in GloVe embedding =  sharky's\n",
      "Word not in GloVe embedding =  visconti's\n",
      "Word not in GloVe embedding =  flynn's\n",
      "Word not in GloVe embedding =  madonna's\n",
      "Word not in GloVe embedding =  cinema's\n",
      "Word not in GloVe embedding =  victim's\n",
      "Word not in GloVe embedding =  noroi\n",
      "Word not in GloVe embedding =  life'\n",
      "Word not in GloVe embedding =  1990's\n",
      "Word not in GloVe embedding =  man'\n",
      "Word not in GloVe embedding =  girl'\n",
      "Word not in GloVe embedding =  noah's\n",
      "Word not in GloVe embedding =  filmmaker's\n",
      "Word not in GloVe embedding =  wai's\n",
      "Word not in GloVe embedding =  couple's\n",
      "Word not in GloVe embedding =  o'\n",
      "Word not in GloVe embedding =  scott's\n",
      "<class 'numpy.ndarray'> (10000, 100)\n"
     ]
    }
   ],
   "source": [
    "### Buidling the embedded matrix from the Glove embedding ###\n",
    "\n",
    "# word_index - word, word_index\n",
    "# word_coefs_dict - word, coefs\n",
    "\n",
    "embedding_mat = np.zeros((max_words, embed_dim))\n",
    "print(embedding_mat.shape)\n",
    "\n",
    "i = 0\n",
    "for word, index in word_index.items():\n",
    "\n",
    "    try:\n",
    "        embedding_mat[index] = word_coefs_dict[word]\n",
    "    except:\n",
    "        print('Word not in GloVe embedding = ', word)\n",
    "\n",
    "print(type(embedding_mat), embedding_mat.shape)"
   ]
  },
  {
   "cell_type": "code",
   "execution_count": 9,
   "metadata": {},
   "outputs": [
    {
     "name": "stdout",
     "output_type": "stream",
     "text": [
      "WARNING:tensorflow:From c:\\users\\gustav.k.lundberg\\appdata\\local\\continuum\\anaconda3\\envs\\rpsenv_clone\\lib\\site-packages\\tensorflow\\python\\ops\\resource_variable_ops.py:435: colocate_with (from tensorflow.python.framework.ops) is deprecated and will be removed in a future version.\n",
      "Instructions for updating:\n",
      "Colocations handled automatically by placer.\n",
      "Model: \"sequential_1\"\n",
      "_________________________________________________________________\n",
      "Layer (type)                 Output Shape              Param #   \n",
      "=================================================================\n",
      "embedding_1 (Embedding)      (None, 100, 100)          1000000   \n",
      "_________________________________________________________________\n",
      "flatten_1 (Flatten)          (None, 10000)             0         \n",
      "_________________________________________________________________\n",
      "dense_1 (Dense)              (None, 32)                320032    \n",
      "_________________________________________________________________\n",
      "dense_2 (Dense)              (None, 1)                 33        \n",
      "=================================================================\n",
      "Total params: 1,320,065\n",
      "Trainable params: 320,065\n",
      "Non-trainable params: 1,000,000\n",
      "_________________________________________________________________\n"
     ]
    }
   ],
   "source": [
    "### Building a non-RNN model, freezing the pretrained weights ###\n",
    "model_naive = Sequential()\n",
    "model_naive.add(Embedding(input_dim = max_words, output_dim = embed_dim, input_length = maxlen))\n",
    "model_naive.add(Flatten())\n",
    "model_naive.add(Dense(32, activation = 'relu'))\n",
    "model_naive.add(Dense(1, activation = 'sigmoid'))\n",
    "\n",
    "# Add the pretrained embeddings (GloVe), i.e. the matrix embedding_mat into the embedded layer in the model\n",
    "#print(model_naive.layers[0].get_weights())\n",
    "model_naive.layers[0].set_weights([embedding_mat])\n",
    "#print(model_naive.layers[0].get_weights())\n",
    "model_naive.layers[0].trainable = False # Potentially freeze the weights of the embedded layer if you don't want to train it\n",
    "model_naive.summary()"
   ]
  },
  {
   "cell_type": "code",
   "execution_count": 10,
   "metadata": {},
   "outputs": [
    {
     "name": "stdout",
     "output_type": "stream",
     "text": [
      "WARNING:tensorflow:From c:\\users\\gustav.k.lundberg\\appdata\\local\\continuum\\anaconda3\\envs\\rpsenv_clone\\lib\\site-packages\\tensorflow\\python\\ops\\math_ops.py:3066: to_int32 (from tensorflow.python.ops.math_ops) is deprecated and will be removed in a future version.\n",
      "Instructions for updating:\n",
      "Use tf.cast instead.\n",
      "Train on 5000 samples, validate on 12243 samples\n",
      "Epoch 1/10\n",
      "5000/5000 [==============================] - 3s 553us/step - loss: 0.7001 - acc: 0.6872 - val_loss: 0.9494 - val_acc: 0.3854\n",
      "Epoch 2/10\n",
      "5000/5000 [==============================] - 3s 540us/step - loss: 0.4998 - acc: 0.7678 - val_loss: 1.5945 - val_acc: 0.3012\n",
      "Epoch 3/10\n",
      "5000/5000 [==============================] - 3s 534us/step - loss: 0.4461 - acc: 0.7990 - val_loss: 0.6136 - val_acc: 0.6779\n",
      "Epoch 4/10\n",
      "5000/5000 [==============================] - 2s 491us/step - loss: 0.3576 - acc: 0.8440 - val_loss: 0.8623 - val_acc: 0.7313\n",
      "Epoch 5/10\n",
      "5000/5000 [==============================] - 2s 465us/step - loss: 0.2914 - acc: 0.8792 - val_loss: 0.6584 - val_acc: 0.6875\n",
      "Epoch 6/10\n",
      "5000/5000 [==============================] - 2s 494us/step - loss: 0.2421 - acc: 0.8966 - val_loss: 0.7594 - val_acc: 0.7426\n",
      "Epoch 7/10\n",
      "5000/5000 [==============================] - 3s 539us/step - loss: 0.1975 - acc: 0.9244 - val_loss: 0.7195 - val_acc: 0.6970\n",
      "Epoch 8/10\n",
      "5000/5000 [==============================] - 3s 559us/step - loss: 0.1623 - acc: 0.9378 - val_loss: 1.0293 - val_acc: 0.7415\n",
      "Epoch 9/10\n",
      "5000/5000 [==============================] - 3s 570us/step - loss: 0.1176 - acc: 0.9578 - val_loss: 1.3748 - val_acc: 0.7381\n",
      "Epoch 10/10\n",
      "5000/5000 [==============================] - 3s 509us/step - loss: 0.0918 - acc: 0.9700 - val_loss: 0.9019 - val_acc: 0.7158\n"
     ]
    }
   ],
   "source": [
    "### Training the model ###\n",
    "learning_rate = 0.001\n",
    "batch_size = 32\n",
    "num_epochs = 10\n",
    "\n",
    "opt = optimizers.RMSprop(learning_rate = learning_rate, rho = 0.9)\n",
    "model_naive.compile(optimizer = opt, loss = 'binary_crossentropy', metrics = ['acc'])\n",
    "\n",
    "history_naive = model_naive.fit(x = x_train,\n",
    "                    y = y_train,\n",
    "                    epochs = num_epochs,\n",
    "                    batch_size = batch_size, \n",
    "                    validation_data = (x_test, y_test))\n",
    "\n",
    "# Saving the weights\n",
    "model_naive.save_weights('C:/Users/gustav.k.lundberg/python_devenv/workspace/text_analysis/models/imdb_model_naive.h5')"
   ]
  },
  {
   "cell_type": "code",
   "execution_count": 11,
   "metadata": {},
   "outputs": [
    {
     "data": {
      "text/plain": [
       "<matplotlib.legend.Legend at 0x1e5d7fd37b8>"
      ]
     },
     "execution_count": 11,
     "metadata": {},
     "output_type": "execute_result"
    },
    {
     "data": {
      "image/png": "[encoded data removed]",
      "text/plain": [
       "<Figure size 432x288 with 1 Axes>"
      ]
     },
     "metadata": {
      "needs_background": "light"
     },
     "output_type": "display_data"
    }
   ],
   "source": [
    "### Plotting the accuracy ###\n",
    "epochs = range(num_epochs)\n",
    "plt.plot(epochs, history_naive.history['acc'])\n",
    "plt.plot(epochs, history_naive.history['val_acc'])\n",
    "plt.legend(['acc', 'val_acc'])"
   ]
  },
  {
   "cell_type": "code",
   "execution_count": 12,
   "metadata": {},
   "outputs": [
    {
     "data": {
      "text/plain": [
       "<matplotlib.legend.Legend at 0x1e5d8087588>"
      ]
     },
     "execution_count": 12,
     "metadata": {},
     "output_type": "execute_result"
    },
    {
     "data": {
      "image/png": "[encoded data removed]",
      "text/plain": [
       "<Figure size 432x288 with 1 Axes>"
      ]
     },
     "metadata": {
      "needs_background": "light"
     },
     "output_type": "display_data"
    }
   ],
   "source": [
    "### Plotting the losses ###\n",
    "epochs = range(num_epochs)\n",
    "plt.plot(epochs, history_naive.history['loss'])\n",
    "plt.plot(epochs, history_naive.history['val_loss'])\n",
    "plt.legend(['loss', 'val_loss'])"
   ]
  },
  {
   "cell_type": "markdown",
   "metadata": {},
   "source": [
    "<h2>RNN models</h2>"
   ]
  },
  {
   "cell_type": "code",
   "execution_count": 53,
   "metadata": {
    "scrolled": true
   },
   "outputs": [
    {
     "name": "stdout",
     "output_type": "stream",
     "text": [
      "Model: \"sequential_9\"\n",
      "_________________________________________________________________\n",
      "Layer (type)                 Output Shape              Param #   \n",
      "=================================================================\n",
      "embedding_8 (Embedding)      (None, 100, 100)          1000000   \n",
      "_________________________________________________________________\n",
      "dropout_6 (Dropout)          (None, 100, 100)          0         \n",
      "_________________________________________________________________\n",
      "lstm_13 (LSTM)               (None, 100, 32)           17024     \n",
      "_________________________________________________________________\n",
      "dropout_7 (Dropout)          (None, 100, 32)           0         \n",
      "_________________________________________________________________\n",
      "lstm_14 (LSTM)               (None, 8)                 1312      \n",
      "_________________________________________________________________\n",
      "dense_9 (Dense)              (None, 1)                 9         \n",
      "=================================================================\n",
      "Total params: 1,018,345\n",
      "Trainable params: 1,018,345\n",
      "Non-trainable params: 0\n",
      "_________________________________________________________________\n"
     ]
    }
   ],
   "source": [
    "### Building a non-RNN model, freezing the pretrained weights ###\n",
    "model_RNN = Sequential()\n",
    "model_RNN.add(Embedding(input_dim = max_words, output_dim = embed_dim, input_length = maxlen))\n",
    "model_RNN.add(Dropout(rate = 0.5))\n",
    "model_RNN.add(LSTM(32, activation = 'relu', return_sequences = True))\n",
    "model_RNN.add(Dropout(rate = 0.5))\n",
    "model_RNN.add(LSTM(8, activation = 'relu', return_sequences = False))\n",
    "model_RNN.add(Dense(1, activation = 'sigmoid'))\n",
    "\n",
    "# Add the pretrained embeddings (GloVe), i.e. the matrix embedding_mat into the embedded layer in the model\n",
    "#print(model_naive.layers[0].get_weights())\n",
    "model_RNN.layers[0].set_weights([embedding_mat])\n",
    "#print(model_naive.layers[0].get_weights())\n",
    "model_RNN.layers[0].trainable = True # Potentially freeze the weights of the embedded layer if you don't want to train it\n",
    "model_RNN.summary()"
   ]
  },
  {
   "cell_type": "code",
   "execution_count": 54,
   "metadata": {},
   "outputs": [],
   "source": [
    "### Hyperparameters ###\n",
    "learning_rate = 0.001\n",
    "batch_size = 128\n",
    "num_epochs = 50"
   ]
  },
  {
   "cell_type": "code",
   "execution_count": 55,
   "metadata": {},
   "outputs": [],
   "source": [
    "### Compiling the model ###\n",
    "opt = optimizers.RMSprop(learning_rate = learning_rate, rho = 0.9, decay = 1e-5)\n",
    "model_RNN.compile(optimizer = opt, loss = 'binary_crossentropy', metrics = ['acc'])"
   ]
  },
  {
   "cell_type": "code",
   "execution_count": 56,
   "metadata": {},
   "outputs": [],
   "source": [
    "### Loading a model ###\n",
    "#model_RNN_loaded = Sequential()\n",
    "#model_RNN_loaded = load_model('C:/Users/gustav.k.lundberg/python_devenv/workspace/text_analysis/models/imdb_model_RNN.h5')\n",
    "#model_RNN.summary()"
   ]
  },
  {
   "cell_type": "code",
   "execution_count": 57,
   "metadata": {},
   "outputs": [
    {
     "name": "stdout",
     "output_type": "stream",
     "text": [
      "Train on 5000 samples, validate on 12243 samples\n",
      "Epoch 1/50\n",
      "5000/5000 [==============================] - 15s 3ms/step - loss: 0.5988 - acc: 0.7260 - val_loss: 0.5873 - val_acc: 0.7228\n",
      "Epoch 2/50\n",
      "5000/5000 [==============================] - 13s 3ms/step - loss: 0.5783 - acc: 0.7302 - val_loss: 0.5913 - val_acc: 0.7228\n",
      "Epoch 3/50\n",
      "5000/5000 [==============================] - 14s 3ms/step - loss: 0.5787 - acc: 0.7296 - val_loss: 0.6304 - val_acc: 0.7228\n",
      "Epoch 4/50\n",
      "5000/5000 [==============================] - 13s 3ms/step - loss: 0.6003 - acc: 0.7302 - val_loss: 0.5649 - val_acc: 0.7228\n",
      "Epoch 5/50\n",
      "5000/5000 [==============================] - 13s 3ms/step - loss: 0.5588 - acc: 0.7304 - val_loss: 0.6023 - val_acc: 0.7228\n",
      "Epoch 6/50\n",
      "5000/5000 [==============================] - 12s 2ms/step - loss: 0.5609 - acc: 0.7308 - val_loss: 0.6063 - val_acc: 0.7228\n",
      "Epoch 7/50\n",
      "5000/5000 [==============================] - 13s 3ms/step - loss: 0.5428 - acc: 0.7302 - val_loss: 0.5285 - val_acc: 0.7238\n",
      "Epoch 8/50\n",
      "5000/5000 [==============================] - 12s 2ms/step - loss: 3.6039 - acc: 0.6714 - val_loss: 7.7632 - val_acc: 0.5035\n",
      "Epoch 9/50\n",
      "5000/5000 [==============================] - 13s 3ms/step - loss: 1.2927 - acc: 0.6976 - val_loss: 0.5905 - val_acc: 0.7225\n",
      "Epoch 10/50\n",
      "5000/5000 [==============================] - 12s 2ms/step - loss: 0.6627 - acc: 0.7320 - val_loss: 0.6071 - val_acc: 0.7227\n",
      "Epoch 11/50\n",
      "5000/5000 [==============================] - 12s 2ms/step - loss: 0.4999 - acc: 0.7448 - val_loss: 0.5549 - val_acc: 0.7493\n",
      "Epoch 12/50\n",
      "5000/5000 [==============================] - 14s 3ms/step - loss: 0.4784 - acc: 0.7620 - val_loss: 0.7450 - val_acc: 0.5507\n",
      "Epoch 13/50\n",
      "5000/5000 [==============================] - 13s 3ms/step - loss: 0.4647 - acc: 0.7722 - val_loss: 0.5029 - val_acc: 0.7367\n",
      "Epoch 14/50\n",
      "5000/5000 [==============================] - 13s 3ms/step - loss: 0.4643 - acc: 0.7886 - val_loss: 0.5466 - val_acc: 0.7804\n",
      "Epoch 15/50\n",
      "5000/5000 [==============================] - 13s 3ms/step - loss: 0.4264 - acc: 0.8066 - val_loss: 0.4382 - val_acc: 0.8062\n",
      "Epoch 16/50\n",
      "5000/5000 [==============================] - 17s 3ms/step - loss: 0.4728 - acc: 0.7882 - val_loss: 0.4598 - val_acc: 0.7915\n",
      "Epoch 17/50\n",
      "5000/5000 [==============================] - 16s 3ms/step - loss: 0.3700 - acc: 0.8420 - val_loss: 0.5447 - val_acc: 0.7492\n",
      "Epoch 18/50\n",
      "5000/5000 [==============================] - 14s 3ms/step - loss: 0.4018 - acc: 0.8272 - val_loss: 0.4379 - val_acc: 0.7936\n",
      "Epoch 19/50\n",
      "5000/5000 [==============================] - 13s 3ms/step - loss: 0.3674 - acc: 0.8512 - val_loss: 0.4556 - val_acc: 0.7592\n",
      "Epoch 20/50\n",
      "5000/5000 [==============================] - 15s 3ms/step - loss: 0.3804 - acc: 0.8260 - val_loss: 0.4233 - val_acc: 0.8060\n",
      "Epoch 21/50\n",
      "5000/5000 [==============================] - 14s 3ms/step - loss: 0.3125 - acc: 0.8756 - val_loss: 0.9766 - val_acc: 0.6676\n",
      "Epoch 22/50\n",
      "5000/5000 [==============================] - 14s 3ms/step - loss: 0.3406 - acc: 0.8654 - val_loss: 0.4230 - val_acc: 0.8076\n",
      "Epoch 23/50\n",
      "5000/5000 [==============================] - 14s 3ms/step - loss: 0.2817 - acc: 0.8834 - val_loss: 0.4997 - val_acc: 0.8219\n",
      "Epoch 24/50\n",
      "5000/5000 [==============================] - 13s 3ms/step - loss: 0.2836 - acc: 0.8884 - val_loss: 0.5062 - val_acc: 0.7585\n",
      "Epoch 25/50\n",
      "5000/5000 [==============================] - 15s 3ms/step - loss: 0.2630 - acc: 0.8984 - val_loss: 0.4069 - val_acc: 0.8217\n",
      "Epoch 26/50\n",
      "5000/5000 [==============================] - 12s 2ms/step - loss: 0.2375 - acc: 0.9074 - val_loss: 0.6969 - val_acc: 0.7140\n",
      "Epoch 27/50\n",
      "5000/5000 [==============================] - 12s 2ms/step - loss: 0.2360 - acc: 0.9080 - val_loss: 0.4166 - val_acc: 0.8387\n",
      "Epoch 28/50\n",
      "5000/5000 [==============================] - 14s 3ms/step - loss: 0.2319 - acc: 0.9094 - val_loss: 0.3947 - val_acc: 0.8462\n",
      "Epoch 29/50\n",
      "5000/5000 [==============================] - 13s 3ms/step - loss: 0.2083 - acc: 0.9192 - val_loss: 0.3735 - val_acc: 0.8471\n",
      "Epoch 30/50\n",
      "5000/5000 [==============================] - 13s 3ms/step - loss: 0.1927 - acc: 0.9218 - val_loss: 0.3735 - val_acc: 0.8505\n",
      "Epoch 31/50\n",
      "5000/5000 [==============================] - 12s 2ms/step - loss: 0.1750 - acc: 0.9324 - val_loss: 0.4024 - val_acc: 0.8478\n",
      "Epoch 32/50\n",
      "5000/5000 [==============================] - 13s 3ms/step - loss: 0.1782 - acc: 0.9330 - val_loss: 0.3603 - val_acc: 0.8440\n",
      "Epoch 33/50\n",
      "5000/5000 [==============================] - 14s 3ms/step - loss: 0.1545 - acc: 0.9434 - val_loss: 0.3908 - val_acc: 0.8432\n",
      "Epoch 34/50\n",
      "5000/5000 [==============================] - 13s 3ms/step - loss: 0.1514 - acc: 0.9404 - val_loss: 0.3885 - val_acc: 0.8536\n",
      "Epoch 35/50\n",
      "5000/5000 [==============================] - 13s 3ms/step - loss: 0.1550 - acc: 0.9416 - val_loss: 0.7385 - val_acc: 0.7671\n",
      "Epoch 36/50\n",
      "5000/5000 [==============================] - 12s 2ms/step - loss: 0.1455 - acc: 0.9450 - val_loss: 0.3648 - val_acc: 0.8513\n",
      "Epoch 37/50\n",
      "5000/5000 [==============================] - 12s 2ms/step - loss: 0.1287 - acc: 0.9488 - val_loss: 0.4183 - val_acc: 0.8370\n",
      "Epoch 38/50\n",
      "5000/5000 [==============================] - 17s 3ms/step - loss: 0.1321 - acc: 0.9474 - val_loss: 0.5381 - val_acc: 0.8383\n",
      "Epoch 39/50\n",
      "5000/5000 [==============================] - 13s 3ms/step - loss: 0.1239 - acc: 0.9530 - val_loss: 0.3778 - val_acc: 0.8520\n",
      "Epoch 40/50\n",
      "5000/5000 [==============================] - 13s 3ms/step - loss: 0.1097 - acc: 0.9580 - val_loss: 0.4801 - val_acc: 0.8522\n",
      "Epoch 41/50\n",
      "5000/5000 [==============================] - 12s 2ms/step - loss: 0.1045 - acc: 0.9594 - val_loss: 0.7099 - val_acc: 0.8165\n",
      "Epoch 42/50\n",
      "5000/5000 [==============================] - 13s 3ms/step - loss: 0.1098 - acc: 0.9596 - val_loss: 0.5206 - val_acc: 0.8298\n",
      "Epoch 43/50\n",
      "5000/5000 [==============================] - 15s 3ms/step - loss: 0.0967 - acc: 0.9664 - val_loss: 0.5190 - val_acc: 0.8198\n",
      "Epoch 44/50\n",
      "5000/5000 [==============================] - 12s 2ms/step - loss: 0.0921 - acc: 0.9618 - val_loss: 0.5117 - val_acc: 0.8269\n",
      "Epoch 45/50\n",
      "5000/5000 [==============================] - 12s 2ms/step - loss: 0.0937 - acc: 0.9672 - val_loss: 0.4387 - val_acc: 0.8529\n",
      "Epoch 46/50\n",
      "5000/5000 [==============================] - 12s 2ms/step - loss: 0.0772 - acc: 0.9692 - val_loss: 0.4724 - val_acc: 0.8458\n",
      "Epoch 47/50\n",
      "5000/5000 [==============================] - 13s 3ms/step - loss: 0.1464 - acc: 0.9672 - val_loss: 0.7896 - val_acc: 0.8446\n",
      "Epoch 48/50\n",
      "5000/5000 [==============================] - 16s 3ms/step - loss: 0.0902 - acc: 0.9732 - val_loss: 0.7301 - val_acc: 0.8393\n",
      "Epoch 49/50\n",
      "5000/5000 [==============================] - 13s 3ms/step - loss: 0.0894 - acc: 0.9770 - val_loss: 0.5554 - val_acc: 0.8542\n",
      "Epoch 50/50\n",
      "5000/5000 [==============================] - 12s 2ms/step - loss: 0.0764 - acc: 0.9738 - val_loss: 0.6511 - val_acc: 0.8531\n"
     ]
    }
   ],
   "source": [
    "history_RNN = model_RNN.fit(x = x_train,\n",
    "                    y = y_train,\n",
    "                    epochs = num_epochs,\n",
    "                    batch_size = batch_size, \n",
    "                    validation_data = (x_test, y_test))\n",
    "\n",
    "# Saving the weights\n",
    "model_RNN.save_weights('C:/Users/gustav.k.lundberg/python_devenv/workspace/text_analysis/models/imdb_model_RNN.h5')"
   ]
  },
  {
   "cell_type": "code",
   "execution_count": 58,
   "metadata": {},
   "outputs": [
    {
     "data": {
      "text/plain": [
       "<matplotlib.legend.Legend at 0x1e5f633afd0>"
      ]
     },
     "execution_count": 58,
     "metadata": {},
     "output_type": "execute_result"
    },
    {
     "data": {
      "image/png": "[encoded data removed]",
      "text/plain": [
       "<Figure size 432x288 with 1 Axes>"
      ]
     },
     "metadata": {
      "needs_background": "light"
     },
     "output_type": "display_data"
    }
   ],
   "source": [
    "### Plotting the accuracy ###\n",
    "epochs = range(num_epochs)\n",
    "plt.plot(epochs, history_RNN.history['acc'])\n",
    "plt.plot(epochs, history_RNN.history['val_acc'])\n",
    "plt.title('Accuracy')\n",
    "plt.legend(['Training', 'Validation'])"
   ]
  },
  {
   "cell_type": "code",
   "execution_count": 59,
   "metadata": {},
   "outputs": [
    {
     "data": {
      "text/plain": [
       "<matplotlib.legend.Legend at 0x1e5f6394550>"
      ]
     },
     "execution_count": 59,
     "metadata": {},
     "output_type": "execute_result"
    },
    {
     "data": {
      "image/png": "[encoded data removed]",
      "text/plain": [
       "<Figure size 432x288 with 1 Axes>"
      ]
     },
     "metadata": {
      "needs_background": "light"
     },
     "output_type": "display_data"
    }
   ],
   "source": [
    "### Plotting the losses ###\n",
    "epochs = range(num_epochs)\n",
    "plt.plot(epochs, history_RNN.history['loss'])\n",
    "plt.plot(epochs, history_RNN.history['val_loss'])\n",
    "plt.title('Losses')\n",
    "plt.legend(['Training', 'Validation'])"
   ]
  }
 ],
 "metadata": {
  "kernelspec": {
   "display_name": "Python 3",
   "language": "python",
   "name": "python3"
  },
  "language_info": {
   "codemirror_mode": {
    "name": "ipython",
    "version": 3
   },
   "file_extension": ".py",
   "mimetype": "text/x-python",
   "name": "python",
   "nbconvert_exporter": "python",
   "pygments_lexer": "ipython3",
   "version": "3.6.7"
  }
 },
 "nbformat": 4,
 "nbformat_minor": 4
}
